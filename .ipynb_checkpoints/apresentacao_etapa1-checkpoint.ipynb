{
 "cells": [
  {
   "metadata": {},
   "cell_type": "markdown",
   "source": [
    "# Projeto \"Meu Ritmo\" - Etapa 1\n",
    "## Teste de Integração e Demonstração dos Modelos de Domínio"
   ],
   "id": "6f93e9cd4117c22d"
  },
  {
   "metadata": {},
   "cell_type": "markdown",
   "source": [
    "### Célula de Imports\n",
    " Garante que estmaos importando nossas classes da estrutura de pastas correta"
   ],
   "id": "8ffcf1eb01d3c6f8"
  },
  {
   "metadata": {
    "ExecuteTime": {
     "end_time": "2025-07-11T02:15:19.290671Z",
     "start_time": "2025-07-11T02:15:19.283974Z"
    }
   },
   "cell_type": "code",
   "source": [
    "import datetime\n",
    "\n",
    "from meu_ritmo.domain.models.task import Tarefa\n",
    "from meu_ritmo.domain.models.active_day import DiaAtivo\n",
    "from meu_ritmo.domain.enums.category_enum import CategoriaEnum\n",
    "\n",
    "print(\"Módulos importados. Pronto para iniciar a etapa 1 do projeto 'Meu Ritmo'.\")"
   ],
   "id": "ea0df21c6907d54e",
   "outputs": [
    {
     "name": "stdout",
     "output_type": "stream",
     "text": [
      "Módulos importados. Pronto para iniciar a etapa 1 do projeto 'Meu Ritmo'.\n"
     ]
    }
   ],
   "execution_count": 3
  },
  {
   "metadata": {},
   "cell_type": "markdown",
   "source": "### Criando algumas tarefas de exemplo",
   "id": "e36aa145e768b73c"
  },
  {
   "metadata": {
    "ExecuteTime": {
     "end_time": "2025-07-11T02:18:46.106226Z",
     "start_time": "2025-07-11T02:18:46.047879Z"
    }
   },
   "cell_type": "code",
   "source": [
    "tarefa_estudo = Tarefa(\n",
    "    descricao=\"Estudar Python\",\n",
    "    prioridade=3,\n",
    "    impacto_energia=-25,\n",
    "    categoria=CategoriaEnum.FACULDADE\n",
    ")\n",
    "\n",
    "tarefa_lazer = Tarefa(\n",
    "    descricao=\"Assistir a um filme\",\n",
    "    prioridade=1,\n",
    "    impacto_energia=+20,\n",
    "    categoria=CategoriaEnum.LAZER\n",
    ")\n",
    "\n",
    "tarefa_casa = Tarefa(\n",
    "    descricao=\"Limpar a casa\",\n",
    "    prioridade=2,\n",
    "    impacto_energia=-15,\n",
    "    categoria=CategoriaEnum.AFAZERES_DOMESTICOS\n",
    ")\n",
    "\n",
    "tarefa_trabalho = Tarefa(\n",
    "    descricao=\"Reunião com a equipe\",\n",
    "    prioridade=2,\n",
    "    impacto_energia=-10,\n",
    "    categoria=CategoriaEnum.TRABALHO\n",
    ")\n",
    "\n",
    "print(\"--- Tarefas criadas ---\")\n",
    "print(tarefa_estudo)\n",
    "print(tarefa_lazer)\n",
    "print(tarefa_casa)\n",
    "print(tarefa_trabalho)"
   ],
   "id": "535a7246b640db6d",
   "outputs": [
    {
     "name": "stdout",
     "output_type": "stream",
     "text": [
      "--- Tarefas criadas ---\n",
      "[o] Estudar Python | Prioridade: 3 | Energia: -25\n",
      "[o] Assistir a um filme | Prioridade: 1 | Energia: +20\n",
      "[o] Limpar a casa | Prioridade: 2 | Energia: -15\n",
      "[o] Reunião com a equipe | Prioridade: 2 | Energia: -10\n"
     ]
    }
   ],
   "execution_count": 6
  }
 ],
 "metadata": {
  "kernelspec": {
   "display_name": "Python 3",
   "language": "python",
   "name": "python3"
  },
  "language_info": {
   "codemirror_mode": {
    "name": "ipython",
    "version": 2
   },
   "file_extension": ".py",
   "mimetype": "text/x-python",
   "name": "python",
   "nbconvert_exporter": "python",
   "pygments_lexer": "ipython2",
   "version": "2.7.6"
  }
 },
 "nbformat": 4,
 "nbformat_minor": 5
}
