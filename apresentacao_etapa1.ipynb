{
 "cells": [
  {
   "cell_type": "markdown",
   "id": "6f93e9cd4117c22d",
   "metadata": {},
   "source": [
    "# Projeto \"Meu Ritmo\" - Etapa 1\n",
    "## Teste de Integração e Demonstração dos Modelos de Domínio"
   ]
  },
  {
   "cell_type": "markdown",
   "id": "9949150d546014e8",
   "metadata": {},
   "source": [
    "## Diário de Bordo da Etapa 1\n",
    "\n",
    "* **Desafio 1:** Organizar a estrutura do projeto.\n",
    "    * **Solução:** Estrutura de pastas organizada baseando-se nos princípios de Clean Architecture.\n",
    "* **Desafio 2:** Representar as categorias de forma segura.\n",
    "    * **Solução:** Inicialmente usamos strings, mas evoluímos para o uso de `Enum` para garantir segurança e clareza."
   ]
  },
  {
   "cell_type": "markdown",
   "id": "8ffcf1eb01d3c6f8",
   "metadata": {},
   "source": [
    "### Célula de Imports\n",
    " Garante que estamos importando nossas classes da estrutura de pastas correta"
   ]
  },
  {
   "cell_type": "code",
   "execution_count": 13,
   "id": "ea0df21c6907d54e",
   "metadata": {
    "ExecuteTime": {
     "end_time": "2025-07-11T02:15:19.290671Z",
     "start_time": "2025-07-11T02:15:19.283974Z"
    }
   },
   "outputs": [
    {
     "name": "stdout",
     "output_type": "stream",
     "text": [
      "Módulos importados. Pronto para iniciar a etapa 1 do projeto 'Meu Ritmo'.\n"
     ]
    }
   ],
   "source": [
    "import datetime\n",
    "\n",
    "from meu_ritmo.domain.models.task import Tarefa\n",
    "from meu_ritmo.domain.models.active_day import DiaAtivo\n",
    "from meu_ritmo.domain.enums.category_enum import CategoriaEnum\n",
    "from meu_ritmo.domain.enums.priority_enum import PrioridadeEnum\n",
    "from meu_ritmo.logic.validators.task_validator import Validacao_Tarefas\n",
    "from meu_ritmo.logic.validators.active_day_validator import DiaAtivo_Validator\n",
    "\n",
    "print(\"Módulos importados. Pronto para iniciar a etapa 1 do projeto 'Meu Ritmo'.\")"
   ]
  },
  {
   "cell_type": "markdown",
   "id": "e36aa145e768b73c",
   "metadata": {},
   "source": [
    "### Criando algumas tarefas de exemplo:"
   ]
  },
  {
   "cell_type": "code",
   "execution_count": 14,
   "id": "535a7246b640db6d",
   "metadata": {
    "ExecuteTime": {
     "end_time": "2025-07-11T02:18:46.106226Z",
     "start_time": "2025-07-11T02:18:46.047879Z"
    }
   },
   "outputs": [
    {
     "name": "stdout",
     "output_type": "stream",
     "text": [
      "--- Tarefas criadas ---\n",
      "[o] Estudar Python | Prioridade: 3 | Energia: -25\n",
      "[o] Assistir a um filme | Prioridade: 1 | Energia: +20\n",
      "[o] Limpar a casa | Prioridade: 2 | Energia: -15\n",
      "[o] Reunião com a equipe | Prioridade: 2 | Energia: -10\n"
     ]
    }
   ],
   "source": [
    "tarefa_estudo = Tarefa(\n",
    "    descricao=\"Estudar Python\",\n",
    "    prioridade=3,\n",
    "    impacto_energia=-25,\n",
    "    categoria=CategoriaEnum.FACULDADE,\n",
    ")\n",
    "\n",
    "tarefa_lazer = Tarefa(\n",
    "    descricao=\"Assistir a um filme\",\n",
    "    prioridade=1,\n",
    "    impacto_energia=+20,\n",
    "    categoria=CategoriaEnum.LAZER,\n",
    ")\n",
    "\n",
    "tarefa_casa = Tarefa(\n",
    "    descricao=\"Limpar a casa\",\n",
    "    prioridade=2,\n",
    "    impacto_energia=-15,\n",
    "    categoria=CategoriaEnum.AFAZERES_DOMESTICOS,\n",
    ")\n",
    "\n",
    "tarefa_trabalho = Tarefa(\n",
    "    descricao=\"Reunião com a equipe\",\n",
    "    prioridade=2,\n",
    "    impacto_energia=-10,\n",
    "    categoria=CategoriaEnum.TRABALHO,\n",
    ")\n",
    "\n",
    "print(\"--- Tarefas criadas ---\")\n",
    "print(tarefa_estudo)\n",
    "print(tarefa_lazer)\n",
    "print(tarefa_casa)\n",
    "print(tarefa_trabalho)"
   ]
  },
  {
   "cell_type": "markdown",
   "id": "741259c68d65acc",
   "metadata": {},
   "source": [
    "### Simulando um dia de Camila (Teste de Integração)"
   ]
  },
  {
   "cell_type": "code",
   "execution_count": 15,
   "id": "60f1185b729cfec4",
   "metadata": {
    "ExecuteTime": {
     "end_time": "2025-07-11T02:26:04.155142Z",
     "start_time": "2025-07-11T02:26:04.149912Z"
    }
   },
   "outputs": [
    {
     "name": "stdout",
     "output_type": "stream",
     "text": [
      "--- ÍNICIO DO DIA ---\n",
      "\n",
      "========================================\n",
      "Resumo para o dia: 12 de July de 2025\n",
      "========================================\n",
      "Energia restante: 100 / 100\n",
      "\n",
      " Tarefas do Dia:\n",
      " Nenhuma tarefa. Aproveite para relaxar! :D\n",
      "========================================\n",
      "\n",
      ">> Camila adiciona uma tarefa de estudo ao dia...\n",
      "\n",
      "========================================\n",
      "Resumo para o dia: 12 de July de 2025\n",
      "========================================\n",
      "Energia restante: 75 / 100\n",
      "\n",
      " Tarefas do Dia:\n",
      "\n",
      "Tarefa: [o] Estudar Python | Prioridade: 3 | Energia: -25\n",
      "========================================\n",
      "\n",
      ">> Camila adiciona uma tarefa de casa ao dia...\n",
      "\n",
      "========================================\n",
      "Resumo para o dia: 12 de July de 2025\n",
      "========================================\n",
      "Energia restante: 60 / 100\n",
      "\n",
      " Tarefas do Dia:\n",
      "\n",
      "Tarefa: [o] Estudar Python | Prioridade: 3 | Energia: -25\n",
      "\n",
      "Tarefa: [o] Limpar a casa | Prioridade: 2 | Energia: -15\n",
      "========================================\n",
      "\n",
      ">> Camila adiciona uma tarefa de trabalho ao dia...\n",
      "\n",
      "========================================\n",
      "Resumo para o dia: 12 de July de 2025\n",
      "========================================\n",
      "Energia restante: 50 / 100\n",
      "\n",
      " Tarefas do Dia:\n",
      "\n",
      "Tarefa: [o] Estudar Python | Prioridade: 3 | Energia: -25\n",
      "\n",
      "Tarefa: [o] Limpar a casa | Prioridade: 2 | Energia: -15\n",
      "\n",
      "Tarefa: [o] Reunião com a equipe | Prioridade: 2 | Energia: -10\n",
      "========================================\n",
      "\n",
      ">> Camila adiciona uma tarefa de lazer ao dia...\n",
      "\n",
      "========================================\n",
      "Resumo para o dia: 12 de July de 2025\n",
      "========================================\n",
      "Energia restante: 70 / 100\n",
      "\n",
      " Tarefas do Dia:\n",
      "\n",
      "Tarefa: [o] Estudar Python | Prioridade: 3 | Energia: -25\n",
      "\n",
      "Tarefa: [o] Limpar a casa | Prioridade: 2 | Energia: -15\n",
      "\n",
      "Tarefa: [o] Reunião com a equipe | Prioridade: 2 | Energia: -10\n",
      "\n",
      "Tarefa: [o] Assistir a um filme | Prioridade: 1 | Energia: +20\n",
      "========================================\n",
      "--- FIM DO DIA ---\n"
     ]
    }
   ],
   "source": [
    "print(\"--- ÍNICIO DO DIA ---\")\n",
    "dia_camila = DiaAtivo(datetime.date.today())\n",
    "dia_camila.mostrar_resumo()\n",
    "\n",
    "print(\"\\n>> Camila adiciona uma tarefa de estudo ao dia...\")\n",
    "dia_camila.adicionar_tarefa(tarefa_estudo)\n",
    "dia_camila.mostrar_resumo()\n",
    "\n",
    "print(\"\\n>> Camila adiciona uma tarefa de casa ao dia...\")\n",
    "dia_camila.adicionar_tarefa(tarefa_casa)\n",
    "dia_camila.mostrar_resumo()\n",
    "\n",
    "print(\"\\n>> Camila adiciona uma tarefa de trabalho ao dia...\")\n",
    "dia_camila.adicionar_tarefa(tarefa_trabalho)\n",
    "dia_camila.mostrar_resumo()\n",
    "\n",
    "print(\"\\n>> Camila adiciona uma tarefa de lazer ao dia...\")\n",
    "dia_camila.adicionar_tarefa(tarefa_lazer)\n",
    "dia_camila.mostrar_resumo()\n",
    "\n",
    "print(\"--- FIM DO DIA ---\")"
   ]
  },
  {
   "cell_type": "markdown",
   "id": "c7a64d12",
   "metadata": {},
   "source": [
    "### SIMULANDO A VALIDAÇÃO DE TAREFAS (Teste de Validação)"
   ]
  },
  {
   "cell_type": "code",
   "execution_count": 16,
   "id": "3ef74ec5",
   "metadata": {},
   "outputs": [
    {
     "name": "stdout",
     "output_type": "stream",
     "text": [
      "\n",
      ">> Descrição da maneira certa\n",
      "(True, '')\n",
      "\n",
      ">> Descrição Inválida\n",
      "(False, 'Descrição deve ter no minimo 1 caracter')\n",
      "\n",
      ">> Prioridade da maneira certa\n",
      "(True, '')\n",
      "\n",
      ">> Prioridade errada\n",
      "(False, 'Prioridade deve ser (Alta/Média/Baixa)')\n",
      "\n",
      ">> Categoria da maneira certa\n",
      "(True, '')\n",
      "\n",
      ">> Categoria errada\n",
      "(False, \"Categoria inválida apenas valores [<CategoriaEnum.TRABALHO: 'Trabalho'>, <CategoriaEnum.FACULDADE: 'Faculdade'>, <CategoriaEnum.AFAZERES_DOMESTICOS: 'Afazeres Domésticos'>, <CategoriaEnum.ACADEMIA: 'Academia'>, <CategoriaEnum.LAZER: 'Lazer'>]\")\n",
      "\n",
      ">> Impacto de energia da maneira certa\n",
      "(True, '')\n",
      "\n",
      ">> Impacto de energia errado\n",
      "(False, 'Impacto de energia deve ser um número inteiro')\n"
     ]
    }
   ],
   "source": [
    "print(\"\\n>> Descrição da maneira certa\")\n",
    "print(Validacao_Tarefas.validar_descricao(\"Descrição válida\"))\n",
    "\n",
    "print(\"\\n>> Descrição Inválida\")\n",
    "print(Validacao_Tarefas.validar_descricao(\"\"))\n",
    "\n",
    "print(\"\\n>> Prioridade da maneira certa\")\n",
    "print(Validacao_Tarefas.validar_prioridade(PrioridadeEnum.ALTA))\n",
    "\n",
    "print(\"\\n>> Prioridade errada\")\n",
    "print(Validacao_Tarefas.validar_prioridade(\"errado\"))\n",
    "\n",
    "print(\"\\n>> Categoria da maneira certa\")\n",
    "print(Validacao_Tarefas.validar_categoria(CategoriaEnum.TRABALHO))\n",
    "\n",
    "print(\"\\n>> Categoria errada\")\n",
    "print(Validacao_Tarefas.validar_categoria(\"Errado\"))\n",
    "\n",
    "print(\"\\n>> Impacto de energia da maneira certa\")\n",
    "print(Validacao_Tarefas.validar_impacto_energia(-10))\n",
    "\n",
    "print(\"\\n>> Impacto de energia errado\")\n",
    "print(Validacao_Tarefas.validar_impacto_energia(\"errado\"))"
   ]
  },
  {
   "cell_type": "markdown",
   "id": "75985aac",
   "metadata": {},
   "source": [
    "### VALIDANDO DIA ATIVO (TESTE DE VALIDAÇÃO)"
   ]
  },
  {
   "cell_type": "code",
   "execution_count": 17,
   "id": "65121151",
   "metadata": {},
   "outputs": [
    {
     "name": "stdout",
     "output_type": "stream",
     "text": [
      "\n",
      ">> Tarefa da maneira certa\n",
      "(True, '')\n",
      "\n",
      ">> Tarefa Inválida\n",
      "(False, 'Tarefas tem que ser uma lista')\n",
      "\n",
      ">> Data da maneira certa\n",
      "(True, '')\n",
      "\n",
      ">> Data da maneira errada\n",
      "(False, 'Data tem que ser do tipo válido')\n"
     ]
    }
   ],
   "source": [
    "print(\"\\n>> Tarefa da maneira certa\")\n",
    "print(\n",
    "    DiaAtivo_Validator.validar_tarefa(\n",
    "        [\n",
    "            Tarefa(\n",
    "                descricao=\"Estudar Python\",\n",
    "                prioridade=3,\n",
    "                impacto_energia=-25,\n",
    "                categoria=CategoriaEnum.FACULDADE,\n",
    "            )\n",
    "        ]\n",
    "    )\n",
    ")\n",
    "\n",
    "print(\"\\n>> Tarefa Inválida\")\n",
    "print(\n",
    "    DiaAtivo_Validator.validar_tarefa(\n",
    "        Tarefa(\n",
    "            descricao=\"Estudar Python\",\n",
    "            prioridade=3,\n",
    "            impacto_energia=-25,\n",
    "            categoria=CategoriaEnum.FACULDADE,\n",
    "        )\n",
    "    )\n",
    ")\n",
    "\n",
    "print(\"\\n>> Data da maneira certa\")\n",
    "print(DiaAtivo_Validator.validar_data(datetime.date.today()))\n",
    "\n",
    "print(\"\\n>> Data da maneira errada\")\n",
    "print(DiaAtivo_Validator.validar_data(\"2025-10-01\"))"
   ]
  }
 ],
 "metadata": {
  "kernelspec": {
   "display_name": "Python 3",
   "language": "python",
   "name": "python3"
  },
  "language_info": {
   "codemirror_mode": {
    "name": "ipython",
    "version": 3
   },
   "file_extension": ".py",
   "mimetype": "text/x-python",
   "name": "python",
   "nbconvert_exporter": "python",
   "pygments_lexer": "ipython3",
   "version": "3.12.2"
  }
 },
 "nbformat": 4,
 "nbformat_minor": 5
}
