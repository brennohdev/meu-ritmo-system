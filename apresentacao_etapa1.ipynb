{
 "cells": [
  {
   "cell_type": "markdown",
   "id": "6f93e9cd4117c22d",
   "metadata": {},
   "source": [
    "# Projeto \"Meu Ritmo\" - Etapa 1\n",
    "## Teste de Integração e Demonstração dos Modelos de Domínio"
   ]
  },
  {
   "cell_type": "markdown",
   "id": "9949150d546014e8",
   "metadata": {},
   "source": [
    "## Diário de Bordo da Etapa 1\n",
    "\n",
    "* **Desafio 1:** Organizar a estrutura do projeto.\n",
    "    * **Solução:** Estrutura de pastas organizada baseando-se nos princípios de Clean Architecture.\n",
    "* **Desafio 2:** Representar as categorias de forma segura.\n",
    "    * **Solução:** Inicialmente usamos strings, mas evoluímos para o uso de `Enum` para garantir segurança e clareza."
   ]
  },
  {
   "cell_type": "markdown",
   "id": "8ffcf1eb01d3c6f8",
   "metadata": {},
   "source": [
    "### Célula de Imports\n",
    " Garante que estamos importando nossas classes da estrutura de pastas correta"
   ]
  },
  {
   "cell_type": "code",
   "execution_count": null,
   "id": "ea0df21c6907d54e",
   "metadata": {
    "ExecuteTime": {
     "end_time": "2025-07-11T02:15:19.290671Z",
     "start_time": "2025-07-11T02:15:19.283974Z"
    }
   },
   "outputs": [],
   "source": [
    "import datetime\n",
    "\n",
    "from meu_ritmo.domain.models.task import Tarefa\n",
    "from meu_ritmo.domain.models.active_day import DiaAtivo\n",
    "from meu_ritmo.domain.enums.category_enum import CategoriaEnum\n",
    "from meu_ritmo.domain.enums.priority_enum import PrioridadeEnum\n",
    "from meu_ritmo.logic.validators.task_validator import Validacao_Tarefas\n",
    "from meu_ritmo.logic.validators.active_day_validator import DiaAtivo_Validator\n",
    "\n",
    "print(\"Módulos importados. Pronto para iniciar a etapa 1 do projeto 'Meu Ritmo'.\")"
   ]
  },
  {
   "cell_type": "markdown",
   "id": "e36aa145e768b73c",
   "metadata": {},
   "source": [
    "### Criando algumas tarefas de exemplo:"
   ]
  },
  {
   "cell_type": "code",
   "execution_count": null,
   "id": "535a7246b640db6d",
   "metadata": {
    "ExecuteTime": {
     "end_time": "2025-07-11T02:18:46.106226Z",
     "start_time": "2025-07-11T02:18:46.047879Z"
    }
   },
   "outputs": [],
   "source": [
    "tarefa_estudo = Tarefa(\n",
    "    descricao=\"Estudar Python\",\n",
    "    prioridade=3,\n",
    "    impacto_energia=-25,\n",
    "    categoria=CategoriaEnum.FACULDADE,\n",
    ")\n",
    "\n",
    "tarefa_lazer = Tarefa(\n",
    "    descricao=\"Assistir a um filme\",\n",
    "    prioridade=1,\n",
    "    impacto_energia=+20,\n",
    "    categoria=CategoriaEnum.LAZER,\n",
    ")\n",
    "\n",
    "tarefa_casa = Tarefa(\n",
    "    descricao=\"Limpar a casa\",\n",
    "    prioridade=2,\n",
    "    impacto_energia=-15,\n",
    "    categoria=CategoriaEnum.AFAZERES_DOMESTICOS,\n",
    ")\n",
    "\n",
    "tarefa_trabalho = Tarefa(\n",
    "    descricao=\"Reunião com a equipe\",\n",
    "    prioridade=2,\n",
    "    impacto_energia=-10,\n",
    "    categoria=CategoriaEnum.TRABALHO,\n",
    ")\n",
    "\n",
    "print(\"--- Tarefas criadas ---\")\n",
    "print(tarefa_estudo)\n",
    "print(tarefa_lazer)\n",
    "print(tarefa_casa)\n",
    "print(tarefa_trabalho)"
   ]
  },
  {
   "cell_type": "markdown",
   "id": "741259c68d65acc",
   "metadata": {},
   "source": [
    "### Simulando um dia de Camila (Teste de Integração)"
   ]
  },
  {
   "cell_type": "code",
   "execution_count": null,
   "id": "60f1185b729cfec4",
   "metadata": {
    "ExecuteTime": {
     "end_time": "2025-07-11T02:26:04.155142Z",
     "start_time": "2025-07-11T02:26:04.149912Z"
    }
   },
   "outputs": [],
   "source": [
    "print(\"--- ÍNICIO DO DIA ---\")\n",
    "dia_camila = DiaAtivo(datetime.date.today())\n",
    "dia_camila.mostrar_resumo()\n",
    "\n",
    "print(\"\\n>> Camila adiciona uma tarefa de estudo ao dia...\")\n",
    "dia_camila.adicionar_tarefa(tarefa_estudo)\n",
    "dia_camila.mostrar_resumo()\n",
    "\n",
    "print(\"\\n>> Camila adiciona uma tarefa de casa ao dia...\")\n",
    "dia_camila.adicionar_tarefa(tarefa_casa)\n",
    "dia_camila.mostrar_resumo()\n",
    "\n",
    "print(\"\\n>> Camila adiciona uma tarefa de trabalho ao dia...\")\n",
    "dia_camila.adicionar_tarefa(tarefa_trabalho)\n",
    "dia_camila.mostrar_resumo()\n",
    "\n",
    "print(\"\\n>> Camila adiciona uma tarefa de lazer ao dia...\")\n",
    "dia_camila.adicionar_tarefa(tarefa_lazer)\n",
    "dia_camila.mostrar_resumo()\n",
    "\n",
    "print(\"--- FIM DO DIA ---\")"
   ]
  }
 ],
 "metadata": {
  "kernelspec": {
   "display_name": "Python 3",
   "language": "python",
   "name": "python3"
  },
  "language_info": {
   "codemirror_mode": {
    "name": "ipython",
    "version": 2
   },
   "file_extension": ".py",
   "mimetype": "text/x-python",
   "name": "python",
   "nbconvert_exporter": "python",
   "pygments_lexer": "ipython2",
   "version": "2.7.6"
  }
 },
 "nbformat": 4,
 "nbformat_minor": 5
}
