{
 "cells": [
  {
   "cell_type": "markdown",
   "id": "6f93e9cd4117c22d",
   "metadata": {},
   "source": [
    "# Projeto \"Meu Ritmo\" - Etapa 1\n",
    "## Teste de Integração e Demonstração dos Modelos de Domínio"
   ]
  },
  {
   "cell_type": "markdown",
   "id": "9949150d546014e8",
   "metadata": {},
   "source": [
    "## Diário de Bordo da Etapa 1\n",
    "\n",
    "* **Desafio 1:** Organizar a estrutura do projeto.\n",
    "    * **Solução:** Estrutura de pastas organizada baseando-se nos princípios de Clean Architecture.\n",
    "* **Desafio 2:** Representar as categorias de forma segura.\n",
    "    * **Solução:** Inicialmente usamos strings, mas evoluímos para o uso de `Enum` para garantir segurança e clareza."
   ]
  },
  {
   "cell_type": "markdown",
   "id": "8ffcf1eb01d3c6f8",
   "metadata": {},
   "source": [
    "### Célula de Imports\n",
    " Garante que estamos importando nossas classes da estrutura de pastas correta"
   ]
  },
  {
   "cell_type": "code",
   "id": "ea0df21c6907d54e",
   "metadata": {
    "ExecuteTime": {
     "end_time": "2025-07-14T01:50:00.132782Z",
     "start_time": "2025-07-14T01:50:00.079380Z"
    }
   },
   "source": [
    "import datetime\n",
    "\n",
    "from meu_ritmo.domain.models.task import Tarefa\n",
    "from meu_ritmo.domain.models.active_day import DiaAtivo\n",
    "from meu_ritmo.domain.enums.category_enum import CategoriaEnum\n",
    "from meu_ritmo.domain.enums.priority_enum import PrioridadeEnum\n",
    "from meu_ritmo.logic.validators.task_validator import Validacao_Tarefas\n",
    "from meu_ritmo.logic.validators.active_day_validator import DiaAtivo_Validator\n",
    "from meu_ritmo.logic.cases.get_data_new_task import obter_dados_nova_tarefa\n",
    "\n",
    "print(\"Módulos importados. Pronto para iniciar a etapa 1 do projeto 'Meu Ritmo'.\")"
   ],
   "outputs": [
    {
     "name": "stdout",
     "output_type": "stream",
     "text": [
      "Módulos importados. Pronto para iniciar a etapa 1 do projeto 'Meu Ritmo'.\n"
     ]
    }
   ],
   "execution_count": 1
  },
  {
   "cell_type": "markdown",
   "id": "e36aa145e768b73c",
   "metadata": {},
   "source": [
    "### Criando algumas tarefas de exemplo:"
   ]
  },
  {
   "cell_type": "code",
   "id": "535a7246b640db6d",
   "metadata": {
    "ExecuteTime": {
     "end_time": "2025-07-14T02:08:03.104080Z",
     "start_time": "2025-07-14T02:08:03.098501Z"
    }
   },
   "source": [
    "tarefa1 = Tarefa(\"Escrever relatório\", PrioridadeEnum.ALTA, -30, CategoriaEnum.TRABALHO)\n",
    "tarefa2 = Tarefa(\"Ir à academia\", PrioridadeEnum.MEDIA, +15, CategoriaEnum.ACADEMIA)\n",
    "\n",
    "print(tarefa1)\n",
    "print(tarefa2)\n",
    "\n",
    "print(f\"\\nTarefa 1 antes de concluir: {tarefa1}\")\n",
    "tarefa1.marcar_como_concluida()\n",
    "print(f\"Tarefa 1 depois de concluir: {tarefa1}\")"
   ],
   "outputs": [
    {
     "name": "stdout",
     "output_type": "stream",
     "text": [
      "[○] Escrever relatório | Categoria: Trabalho | Prioridade: Alta | Energia: -30\n",
      "[○] Ir à academia | Categoria: Academia | Prioridade: Media | Energia: +15\n",
      "\n",
      "Tarefa 1 antes de concluir: [○] Escrever relatório | Categoria: Trabalho | Prioridade: Alta | Energia: -30\n",
      "Tarefa 'Escrever relatório' marcada como concluída\n",
      "Tarefa 1 depois de concluir: [✓] Escrever relatório | Categoria: Trabalho | Prioridade: Alta | Energia: -30\n"
     ]
    }
   ],
   "execution_count": 3
  },
  {
   "cell_type": "markdown",
   "id": "741259c68d65acc",
   "metadata": {},
   "source": [
    "### Simulando um dia de Camila (Teste de Integração)"
   ]
  },
  {
   "cell_type": "code",
   "id": "60f1185b729cfec4",
   "metadata": {
    "ExecuteTime": {
     "end_time": "2025-07-14T02:08:34.369986Z",
     "start_time": "2025-07-14T02:08:34.365483Z"
    }
   },
   "source": [
    "dia_teste = DiaAtivo(datetime.date.today())\n",
    "print(\"--- Estado Inicial do Dia ---\")\n",
    "dia_teste.mostrar_resumo()\n",
    "\n",
    "print(\"\\n--- Adicionando Tarefa de Trabalho ---\")\n",
    "dia_teste.adicionar_tarefa(tarefa1)\n",
    "dia_teste.mostrar_resumo()\n",
    "\n",
    "print(\"\\n--- Adicionando Tarefa de Academia ---\")\n",
    "dia_teste.adicionar_tarefa(tarefa2)\n",
    "dia_teste.mostrar_resumo()"
   ],
   "outputs": [
    {
     "name": "stdout",
     "output_type": "stream",
     "text": [
      "--- Estado Inicial do Dia ---\n",
      "\n",
      "============================================================\n",
      "Resumo para o dia: 13 de July de 2025\n",
      "------------------------------------------------------------\n",
      "⚡ Energia restante: 100 / 100\n",
      "\n",
      " Tarefas do Dia:\n",
      "   Nenhuma tarefa. Aproveite para relaxar! :D\n",
      "============================================================\n",
      "\n",
      "--- Adicionando Tarefa de Trabalho ---\n",
      "\n",
      "============================================================\n",
      "Resumo para o dia: 13 de July de 2025\n",
      "------------------------------------------------------------\n",
      "⚡ Energia restante: 70 / 100\n",
      "\n",
      " Tarefas do Dia:\n",
      "   - [✓] Escrever relatório | Categoria: Trabalho | Prioridade: Alta | Energia: -30\n",
      "============================================================\n",
      "\n",
      "--- Adicionando Tarefa de Academia ---\n",
      "\n",
      "============================================================\n",
      "Resumo para o dia: 13 de July de 2025\n",
      "------------------------------------------------------------\n",
      "⚡ Energia restante: 85 / 100\n",
      "\n",
      " Tarefas do Dia:\n",
      "   - [✓] Escrever relatório | Categoria: Trabalho | Prioridade: Alta | Energia: -30\n",
      "   - [○] Ir à academia | Categoria: Academia | Prioridade: Media | Energia: +15\n",
      "============================================================\n"
     ]
    }
   ],
   "execution_count": 4
  },
  {
   "cell_type": "markdown",
   "id": "c7a64d12",
   "metadata": {},
   "source": [
    "### SIMULANDO A VALIDAÇÃO DE TAREFAS (Teste de Validação)"
   ]
  },
  {
   "cell_type": "code",
   "execution_count": 28,
   "id": "3ef74ec5",
   "metadata": {},
   "outputs": [
    {
     "name": "stdout",
     "output_type": "stream",
     "text": [
      "\n",
      ">> Descrição da maneira certa\n",
      "(True, '')\n",
      "\n",
      ">> Descrição Inválida\n",
      "(False, 'Descrição deve ter no minimo 1 caracter')\n",
      "\n",
      ">> Prioridade da maneira certa\n",
      "(True, '')\n",
      "\n",
      ">> Prioridade errada\n",
      "(False, 'Prioridade deve ser (Alta/Média/Baixa)')\n",
      "\n",
      ">> Categoria da maneira certa\n",
      "(True, '')\n",
      "\n",
      ">> Categoria errada\n",
      "(False, \"Categoria inválida apenas valores [<CategoriaEnum.TRABALHO: 'Trabalho'>, <CategoriaEnum.FACULDADE: 'Faculdade'>, <CategoriaEnum.AFAZERES_DOMESTICOS: 'Afazeres Domésticos'>, <CategoriaEnum.ACADEMIA: 'Academia'>, <CategoriaEnum.LAZER: 'Lazer'>]\")\n",
      "\n",
      ">> Impacto de energia da maneira certa\n",
      "(True, '')\n",
      "\n",
      ">> Impacto de energia errado\n",
      "(False, 'Impacto de energia deve ser um número inteiro')\n"
     ]
    }
   ],
   "source": [
    "print(\"\\n>> Descrição da maneira certa\")\n",
    "print(Validacao_Tarefas.validar_descricao(\"Descrição válida\"))\n",
    "\n",
    "print(\"\\n>> Descrição Inválida\")\n",
    "print(Validacao_Tarefas.validar_descricao(\"\"))\n",
    "\n",
    "print(\"\\n>> Prioridade da maneira certa\")\n",
    "print(Validacao_Tarefas.validar_prioridade(PrioridadeEnum.ALTA))\n",
    "\n",
    "print(\"\\n>> Prioridade errada\")\n",
    "print(Validacao_Tarefas.validar_prioridade(\"errado\"))\n",
    "\n",
    "print(\"\\n>> Categoria da maneira certa\")\n",
    "print(Validacao_Tarefas.validar_categoria(CategoriaEnum.TRABALHO))\n",
    "\n",
    "print(\"\\n>> Categoria errada\")\n",
    "print(Validacao_Tarefas.validar_categoria(\"Errado\"))\n",
    "\n",
    "print(\"\\n>> Impacto de energia da maneira certa\")\n",
    "print(Validacao_Tarefas.validar_impacto_energia(-10))\n",
    "\n",
    "print(\"\\n>> Impacto de energia errado\")\n",
    "print(Validacao_Tarefas.validar_impacto_energia(\"errado\"))"
   ]
  },
  {
   "cell_type": "markdown",
   "id": "75985aac",
   "metadata": {},
   "source": [
    "### VALIDANDO DIA ATIVO (TESTE DE VALIDAÇÃO)"
   ]
  },
  {
   "cell_type": "code",
   "id": "65121151",
   "metadata": {
    "ExecuteTime": {
     "end_time": "2025-07-14T02:08:53.031207Z",
     "start_time": "2025-07-14T02:08:53.026105Z"
    }
   },
   "source": [
    "print(\"\\n>> Tarefa da maneira certa\")\n",
    "print(\n",
    "    DiaAtivo_Validator.validar_tarefa(\n",
    "        [\n",
    "            Tarefa(\n",
    "                descricao=\"Estudar Python\",\n",
    "                prioridade=3,\n",
    "                impacto_energia=-25,\n",
    "                categoria=CategoriaEnum.FACULDADE,\n",
    "            )\n",
    "        ]\n",
    "    )\n",
    ")\n",
    "\n",
    "print(\"\\n>> Tarefa Inválida\")\n",
    "print(\n",
    "    DiaAtivo_Validator.validar_tarefa(\n",
    "        Tarefa(\n",
    "            descricao=\"Estudar Python\",\n",
    "            prioridade=3,\n",
    "            impacto_energia=-25,\n",
    "            categoria=CategoriaEnum.FACULDADE,\n",
    "        )\n",
    "    )\n",
    ")\n",
    "\n",
    "print(\"\\n>> Data da maneira certa\")\n",
    "print(DiaAtivo_Validator.validar_data(datetime.date.today()))\n",
    "\n",
    "print(\"\\n>> Data da maneira errada\")\n",
    "print(DiaAtivo_Validator.validar_data(\"2025-10-01\"))"
   ],
   "outputs": [
    {
     "name": "stdout",
     "output_type": "stream",
     "text": [
      "\n",
      ">> Tarefa da maneira certa\n",
      "(True, '')\n",
      "\n",
      ">> Tarefa Inválida\n",
      "(False, 'Tarefas tem que ser uma lista')\n",
      "\n",
      ">> Data da maneira certa\n",
      "(True, '')\n",
      "\n",
      ">> Data da maneira errada\n",
      "(False, 'Data tem que ser do tipo válido')\n"
     ]
    }
   ],
   "execution_count": 5
  },
  {
   "cell_type": "markdown",
   "id": "33ef515a",
   "metadata": {},
   "source": [
    "### Testando a função de obtenção de dados:"
   ]
  },
  {
   "cell_type": "code",
   "execution_count": 30,
   "id": "b01e95b7",
   "metadata": {},
   "outputs": [
    {
     "name": "stdout",
     "output_type": "stream",
     "text": [
      "\n",
      ">> Dados da nova tarefa obtidos com sucesso.\n",
      "{'descricao': 'Terminar o projeto de Adriana', 'prioridade': <PrioridadeEnum.ALTA: 'alta'>, 'impacto_energia': -200, 'categoria': <CategoriaEnum.FACULDADE: 'Faculdade'>}\n"
     ]
    }
   ],
   "source": [
    "tarefa = obter_dados_nova_tarefa()\n",
    "print(\"\\n>> Dados da nova tarefa obtidos com sucesso.\")\n",
    "print(tarefa)"
   ]
  }
 ],
 "metadata": {
  "kernelspec": {
   "display_name": "Python 3",
   "language": "python",
   "name": "python3"
  },
  "language_info": {
   "codemirror_mode": {
    "name": "ipython",
    "version": 3
   },
   "file_extension": ".py",
   "mimetype": "text/x-python",
   "name": "python",
   "nbconvert_exporter": "python",
   "pygments_lexer": "ipython3",
   "version": "3.12.2"
  }
 },
 "nbformat": 4,
 "nbformat_minor": 5
}
